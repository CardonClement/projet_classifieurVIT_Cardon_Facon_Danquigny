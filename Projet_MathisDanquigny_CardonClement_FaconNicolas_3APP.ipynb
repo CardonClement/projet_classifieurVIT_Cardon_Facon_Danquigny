{
  "cells": [
    {
      "cell_type": "markdown",
      "metadata": {
        "id": "TvvPSq-EYQZg"
      },
      "source": [
        "Projets évaluation Mod Maths : entraînement classifieur VIT, dataset EMNIST"
      ]
    },
    {
      "cell_type": "code",
      "execution_count": 1,
      "metadata": {
        "id": "Wa_J6SmyYMXh"
      },
      "outputs": [
        {
          "name": "stderr",
          "output_type": "stream",
          "text": [
            "C:\\Users\\Clement\\AppData\\Local\\Packages\\PythonSoftwareFoundation.Python.3.11_qbz5n2kfra8p0\\LocalCache\\local-packages\\Python311\\site-packages\\torchvision\\io\\image.py:13: UserWarning: Failed to load image Python extension: '[WinError 127] La procédure spécifiée est introuvable'If you don't plan on using image functionality from `torchvision.io`, you can ignore this warning. Otherwise, there might be something wrong with your environment. Did you have `libjpeg` or `libpng` installed before building `torchvision` from source?\n",
            "  warn(\n"
          ]
        }
      ],
      "source": [
        "import torch\n",
        "import torchvision"
      ]
    },
    {
      "cell_type": "code",
      "execution_count": 2,
      "metadata": {
        "colab": {
          "base_uri": "https://localhost:8080/"
        },
        "id": "748ZhsJNYdQl",
        "outputId": "1d16fa86-9e63-4f3a-e6f6-b421c81cc91e"
      },
      "outputs": [
        {
          "name": "stdout",
          "output_type": "stream",
          "text": [
            "cuda\n"
          ]
        }
      ],
      "source": [
        "device = torch.device(\"cuda\")\n",
        "print(device)"
      ]
    },
    {
      "cell_type": "code",
      "execution_count": 3,
      "metadata": {
        "colab": {
          "base_uri": "https://localhost:8080/"
        },
        "id": "ynm-tQscYjlc",
        "outputId": "80c28e3c-5a5b-4be7-929c-acd06b5c901c"
      },
      "outputs": [
        {
          "name": "stdout",
          "output_type": "stream",
          "text": [
            "Compose(\n",
            "    ToTensor()\n",
            "    Normalize(mean=0.5, std=0.5)\n",
            ")\n"
          ]
        }
      ],
      "source": [
        "transform = torchvision.transforms.Compose([\n",
        "  torchvision.transforms.ToTensor(),\n",
        "  torchvision.transforms.Normalize(std=0.5, mean=0.5)\n",
        "])\n",
        "print(transform)"
      ]
    },
    {
      "cell_type": "code",
      "execution_count": 4,
      "metadata": {
        "id": "C1HGdv7MYmjr"
      },
      "outputs": [],
      "source": [
        "import torchvision.transforms as transforms\n",
        "from torchvision.datasets import EMNIST\n",
        "\n",
        "emnist_transform = transforms.Compose([\n",
        "    transforms.Resize((28, 28)),\n",
        "    transforms.ToTensor(),\n",
        "    transforms.Normalize((0.5,), (0.5,))\n",
        "])"
      ]
    },
    {
      "cell_type": "markdown",
      "metadata": {
        "id": "hGWETz_Qa1fq"
      },
      "source": [
        "Téléchargement dataset"
      ]
    },
    {
      "cell_type": "code",
      "execution_count": 5,
      "metadata": {
        "colab": {
          "base_uri": "https://localhost:8080/"
        },
        "id": "zHr_3mxHYq0v",
        "outputId": "e0976435-884d-4e8b-c86b-3d59aeeabe8a"
      },
      "outputs": [],
      "source": [
        "emnist_train_dataset = EMNIST(root='./data', split='letters', train=True, transform=emnist_transform, download=True)\n",
        "emnist_test_dataset = EMNIST(root='./data', split='letters', train=False, transform=emnist_transform, download=True)"
      ]
    },
    {
      "cell_type": "code",
      "execution_count": 6,
      "metadata": {
        "colab": {
          "base_uri": "https://localhost:8080/"
        },
        "id": "jGJsdrB-YxRn",
        "outputId": "05007bba-1221-4c8e-b12f-15d863de5d2a"
      },
      "outputs": [
        {
          "name": "stdout",
          "output_type": "stream",
          "text": [
            "<torch.utils.data.dataloader.DataLoader object at 0x00000212346EF910>\n",
            "<torch.utils.data.dataloader.DataLoader object at 0x00000212346EF7D0>\n"
          ]
        }
      ],
      "source": [
        "batch_size = 32\n",
        "\n",
        "emnist_train_loader = torch.utils.data.DataLoader(dataset=emnist_train_dataset, batch_size=batch_size, shuffle=True)\n",
        "emnist_test_loader = torch.utils.data.DataLoader(dataset=emnist_test_dataset, batch_size=batch_size, shuffle=False)\n",
        "print(emnist_train_loader)\n",
        "print(emnist_test_loader)"
      ]
    },
    {
      "cell_type": "code",
      "execution_count": 7,
      "metadata": {
        "colab": {
          "base_uri": "https://localhost:8080/"
        },
        "id": "xMN4bH4xY08e",
        "outputId": "8d13616e-0a06-4329-f5de-388a5cea5c17"
      },
      "outputs": [
        {
          "name": "stdout",
          "output_type": "stream",
          "text": [
            "2\n"
          ]
        }
      ],
      "source": [
        "examples = enumerate(emnist_test_loader)\n",
        "batch_idx, data = next(examples)\n",
        "print(len(data))"
      ]
    },
    {
      "cell_type": "markdown",
      "metadata": {
        "id": "oRYh-tTKbBkK"
      },
      "source": [
        "Génération images du dataset"
      ]
    },
    {
      "cell_type": "code",
      "execution_count": 8,
      "metadata": {
        "colab": {
          "base_uri": "https://localhost:8080/",
          "height": 577
        },
        "id": "3VVovVZzY39T",
        "outputId": "dc8fc72d-c4de-4a3b-b040-964615daae26"
      },
      "outputs": [
        {
          "name": "stdout",
          "output_type": "stream",
          "text": [
            "Dimensions de la première image EMNIST: torch.Size([1, 28, 28])\n",
            "Dimensions des images EMNIST:\n",
            "Batch(s): 124800\n",
            "Channel(s): 1\n",
            "Height: 1\n",
            "Width: 28\n",
            "Labels: torch.Size([124800])\n",
            "tensor([23,  7, 16,  ..., 13, 15, 19])\n"
          ]
        },
        {
          "data": {
            "image/png": "[encoded data removed]",
            "text/plain": [
              "<Figure size 640x480 with 6 Axes>"
            ]
          },
          "metadata": {},
          "output_type": "display_data"
        }
      ],
      "source": [
        "import string\n",
        "import matplotlib.pyplot as plt\n",
        "\n",
        "print('Dimensions de la première image EMNIST:', emnist_train_dataset[0][0].shape)\n",
        "print('Dimensions des images EMNIST:')\n",
        "b = len(emnist_train_dataset)\n",
        "c = 1\n",
        "h = emnist_train_dataset[0][0].shape[0]\n",
        "w = emnist_train_dataset[0][0].shape[1]\n",
        "print('Batch(s):', b)\n",
        "print('Channel(s):', c)\n",
        "print('Height:', h)\n",
        "print('Width:', w)\n",
        "\n",
        "print('Labels:', emnist_train_dataset.targets.shape)\n",
        "print(emnist_train_dataset.targets)\n",
        "\n",
        "\n",
        "alphabet = list(string.ascii_uppercase)\n",
        "\n",
        "decalage_lettres = -1\n",
        "\n",
        "fig = plt.figure()\n",
        "for i in range(6):\n",
        "    plt.subplot(2, 3, i + 1)\n",
        "    plt.tight_layout()\n",
        "\n",
        "    if len(emnist_train_dataset[i][0].shape) == 3:\n",
        "        plt.imshow(emnist_train_dataset[i][0][0], cmap='gray', interpolation='none')\n",
        "    else:\n",
        "        plt.imshow(emnist_train_dataset[i][0], cmap='gray', interpolation='none')\n",
        "\n",
        "    label_index = emnist_train_dataset[i][1] + decalage_lettres\n",
        "    letter = alphabet[label_index]\n",
        "\n",
        "    plt.title(f'Label: {letter}')\n",
        "    plt.xticks([])\n",
        "    plt.yticks([])\n",
        "\n",
        "plt.show()\n"
      ]
    },
    {
      "cell_type": "code",
      "execution_count": 9,
      "metadata": {
        "id": "IRCgOfXRY9z-"
      },
      "outputs": [],
      "source": [
        "from TP5_MHA import MultiHeadAttention\n",
        "\n",
        "class VisionEncoder(torch.nn.Module):\n",
        "    def __init__(self, embed_size, num_heads, dropout):\n",
        "        super(VisionEncoder, self).__init__()\n",
        "\n",
        "        self.embed_size = embed_size\n",
        "        self.num_heads = num_heads\n",
        "        self.dropout = dropout\n",
        "\n",
        "        self.norm1 = torch.nn.LayerNorm(self.embed_size)\n",
        "        self.attention = MultiHeadAttention(self.embed_size, self.num_heads, self.dropout)\n",
        "        self.norm2 = torch.nn.LayerNorm(self.embed_size)\n",
        "        self.mlp = torch.nn.Sequential(torch.nn.Linear(embed_size, embed_size*4), torch.nn.GELU(), torch.nn.Dropout(0.2), torch.nn.Linear(embed_size*4, embed_size), torch.nn.Dropout(0.2))\n",
        "\n",
        "    def forward(self, x):\n",
        "        x.expand(32,-1,-1)\n",
        "        fwd_norm1 = self.norm1(x)\n",
        "        fwd_attention = self.attention(fwd_norm1, fwd_norm1, fwd_norm1)\n",
        "        fwd_norm2 = self.norm2(fwd_attention)\n",
        "        fwd_mlp = fwd_attention + self.mlp(fwd_norm2)\n",
        "\n",
        "        return fwd_mlp\n"
      ]
    },
    {
      "cell_type": "code",
      "execution_count": 10,
      "metadata": {
        "colab": {
          "base_uri": "https://localhost:8080/"
        },
        "id": "b6p7wAewZH7u",
        "outputId": "edb55736-aab5-434f-f862-f5409da522cf"
      },
      "outputs": [
        {
          "name": "stdout",
          "output_type": "stream",
          "text": [
            "ViT(\n",
            "  (embedding): Linear(in_features=49, out_features=512, bias=True)\n",
            "  (dropout_layer): Dropout(p=0.2, inplace=False)\n",
            "  (encoders): ModuleList(\n",
            "    (0-2): 3 x VisionEncoder(\n",
            "      (norm1): LayerNorm((512,), eps=1e-05, elementwise_affine=True)\n",
            "      (attention): MultiHeadAttention(\n",
            "        (dropout_layer): Dropout(p=0.2, inplace=False)\n",
            "        (Q): Linear(in_features=512, out_features=512, bias=True)\n",
            "        (K): Linear(in_features=512, out_features=512, bias=True)\n",
            "        (V): Linear(in_features=512, out_features=512, bias=True)\n",
            "        (linear): Linear(in_features=512, out_features=512, bias=True)\n",
            "      )\n",
            "      (norm2): LayerNorm((512,), eps=1e-05, elementwise_affine=True)\n",
            "      (mlp): Sequential(\n",
            "        (0): Linear(in_features=512, out_features=2048, bias=True)\n",
            "        (1): GELU(approximate='none')\n",
            "        (2): Dropout(p=0.2, inplace=False)\n",
            "        (3): Linear(in_features=2048, out_features=512, bias=True)\n",
            "        (4): Dropout(p=0.2, inplace=False)\n",
            "      )\n",
            "    )\n",
            "  )\n",
            "  (norm): LayerNorm((512,), eps=1e-05, elementwise_affine=True)\n",
            "  (classifier): Linear(in_features=512, out_features=27, bias=True)\n",
            ")\n"
          ]
        }
      ],
      "source": [
        "class ViT(torch.nn.Module):\n",
        "    def __init__(self, image_size, channel_size, patch_size, embed_size, nb_heads, classes, nb_layers, hidden_size, dropout):\n",
        "        super(ViT, self).__init__()\n",
        "\n",
        "        self.patch_size = patch_size\n",
        "        self.embed_size = embed_size\n",
        "        self.nb_patches = (image_size // patch_size) ** 2\n",
        "        self.pixels_per_patch = channel_size * (patch_size ** 2)\n",
        "        self.nb_heads = nb_heads\n",
        "        self.classes = classes\n",
        "        self.nb_layers = nb_layers\n",
        "        self.hidden_size = hidden_size\n",
        "        self.dropout = dropout\n",
        "\n",
        "        self.embedding = torch.nn.Linear(self.pixels_per_patch,embed_size)\n",
        "        self.dropout_layer = torch.nn.Dropout(dropout)\n",
        "\n",
        "        self.encoders = torch.nn.ModuleList([])\n",
        "        for i in range(self.nb_layers):\n",
        "            self.encoders.append(VisionEncoder(self.embed_size, self.nb_heads, self.dropout))\n",
        "\n",
        "        self.norm = torch.nn.LayerNorm(self.embed_size)\n",
        "        self.classifier = torch.nn.Linear(self.embed_size, self.classes)\n",
        "\n",
        "\n",
        "    def forward(self, img_torch):\n",
        "        b, c, h, w = img_torch.size()\n",
        "        img_torch_reshape = img_torch.reshape(b, int((h / self.patch_size) * (w / self.patch_size)), c * self.patch_size * self.patch_size)\n",
        "        fwd_embeddings = self.embedding(img_torch_reshape)\n",
        "        class_token = torch.randn(b,1,self.embed_size).to(device)\n",
        "        fwd_cat_class_token = torch.cat((fwd_embeddings, class_token),1)\n",
        "\n",
        "        positional_encoding = torch.randn(1,self.nb_patches + 1,self.embed_size).to(device)\n",
        "        fwd_pos_encoding = fwd_cat_class_token + positional_encoding\n",
        "        fwd_dropout = self.dropout_layer(fwd_pos_encoding)\n",
        "\n",
        "        for encoder in self.encoders:\n",
        "            fwd_dropout = encoder(fwd_dropout)\n",
        "\n",
        "        fwd_cls = fwd_dropout[:, -1]\n",
        "        fwd_cls = self.norm(fwd_cls)\n",
        "        fwd_cls = self.classifier(fwd_cls)\n",
        "        fwd_softmax = torch.nn.functional.log_softmax(fwd_cls, -1)\n",
        "        return fwd_softmax\n",
        "\n",
        "num_classes_emnist = 27\n",
        "model = ViT(image_size=28, channel_size=1, patch_size=7, embed_size=512, nb_heads=8, classes=num_classes_emnist, nb_layers=3, hidden_size=256, dropout=0.2).to(device)\n",
        "print(model)"
      ]
    },
    {
      "cell_type": "code",
      "execution_count": 11,
      "metadata": {
        "colab": {
          "base_uri": "https://localhost:8080/"
        },
        "id": "c5b3qxvLZLCd",
        "outputId": "7a261d33-3042-4f33-b43c-2f51d934acd7"
      },
      "outputs": [
        {
          "name": "stdout",
          "output_type": "stream",
          "text": [
            "NLLLoss()\n",
            "Adam (\n",
            "Parameter Group 0\n",
            "    amsgrad: False\n",
            "    betas: (0.9, 0.999)\n",
            "    capturable: False\n",
            "    differentiable: False\n",
            "    eps: 1e-08\n",
            "    foreach: None\n",
            "    fused: None\n",
            "    lr: 5e-05\n",
            "    maximize: False\n",
            "    weight_decay: 0\n",
            ")\n"
          ]
        }
      ],
      "source": [
        "loss_fct = torch.nn.NLLLoss()\n",
        "print(loss_fct)\n",
        "\n",
        "optimizer = torch.optim.Adam(model.parameters(), lr=5e-5)\n",
        "print(optimizer)"
      ]
    },
    {
      "cell_type": "markdown",
      "metadata": {
        "id": "-fjxOkd-bfRL"
      },
      "source": [
        "Accuracy du classificateur"
      ]
    },
    {
      "cell_type": "code",
      "execution_count": 12,
      "metadata": {
        "colab": {
          "base_uri": "https://localhost:8080/",
          "height": 356
        },
        "id": "q13upuP0ZRJR",
        "outputId": "1313c975-90f8-446d-959d-910b64a51c8e"
      },
      "outputs": [
        {
          "name": "stdout",
          "output_type": "stream",
          "text": [
            "----------\n",
            "Epoch: 0\n",
            "Loss: 10255.391868114471\n",
            "Accuracy: 21.052884615384617 % (26274 / 124800)\n",
            "----------\n",
            "Epoch: 1\n",
            "Loss: 7568.034513473511\n",
            "Accuracy: 39.743589743589745 % (49600 / 124800)\n",
            "----------\n",
            "Epoch: 2\n",
            "Loss: 6212.901568174362\n",
            "Accuracy: 50.20592948717949 % (62657 / 124800)\n",
            "----------\n",
            "Epoch: 3\n",
            "Loss: 5302.59816879034\n",
            "Accuracy: 57.37179487179487 % (71600 / 124800)\n",
            "----------\n",
            "Epoch: 4\n",
            "Loss: 4595.389219462872\n",
            "Accuracy: 62.97996794871795 % (78599 / 124800)\n",
            "----------\n",
            "Epoch: 5\n",
            "Loss: 4068.514709085226\n",
            "Accuracy: 67.13701923076923 % (83787 / 124800)\n",
            "----------\n",
            "Epoch: 6\n",
            "Loss: 3666.611813634634\n",
            "Accuracy: 70.10897435897436 % (87496 / 124800)\n",
            "----------\n",
            "Epoch: 7\n",
            "Loss: 3332.949974447489\n",
            "Accuracy: 72.76442307692308 % (90810 / 124800)\n",
            "----------\n",
            "Epoch: 8\n",
            "Loss: 3057.9029946029186\n",
            "Accuracy: 74.94871794871794 % (93536 / 124800)\n",
            "----------\n",
            "Epoch: 9\n",
            "Loss: 2829.3840094208717\n",
            "Accuracy: 76.65544871794872 % (95666 / 124800)\n"
          ]
        }
      ],
      "source": [
        "\n",
        "losses = []\n",
        "accuracies = []\n",
        "nb_epochs = 10\n",
        "\n",
        "for epoch in range(nb_epochs):\n",
        "    model.train()\n",
        "    epoch_loss = 0\n",
        "    y_pred = []\n",
        "    y_true = []\n",
        "\n",
        "    for batch_idx, (imgs, labels) in enumerate(emnist_train_loader):\n",
        "        imgs = imgs.to(device)\n",
        "        labels = labels.to(device)\n",
        "        predictions = model(imgs)\n",
        "        loss = loss_fct(predictions, labels)\n",
        "        optimizer.zero_grad()\n",
        "        loss.backward()\n",
        "        optimizer.step()\n",
        "        y_pred.extend(predictions.argmax(dim=1).tolist())\n",
        "        y_true.extend(labels.detach().tolist())\n",
        "        epoch_loss += loss.item()\n",
        "\n",
        "\n",
        "    losses.append(epoch_loss)\n",
        "    nb_imgs = len(y_pred)\n",
        "    total_correct = 0\n",
        "    for i in range(nb_imgs):\n",
        "        if y_pred[i] == y_true[i]:\n",
        "            total_correct += 1\n",
        "    accuracy = total_correct * 100 / nb_imgs\n",
        "    accuracies.append(accuracy)\n",
        "\n",
        "    print(\"----------\")\n",
        "    print(\"Epoch:\", epoch)\n",
        "    print(\"Loss:\", epoch_loss)\n",
        "    print(f\"Accuracy: {accuracy} % ({total_correct} / {nb_imgs})\")"
      ]
    },
    {
      "cell_type": "markdown",
      "metadata": {
        "id": "ERgkYca_fqPz"
      },
      "source": [
        "Graphiques des performances"
      ]
    },
    {
      "cell_type": "code",
      "execution_count": 13,
      "metadata": {
        "id": "LWncAKVFfpKp"
      },
      "outputs": [
        {
          "data": {
            "image/png": "[encoded data removed]",
            "text/plain": [
              "<Figure size 640x480 with 1 Axes>"
            ]
          },
          "metadata": {},
          "output_type": "display_data"
        }
      ],
      "source": [
        "plt.plot(losses)\n",
        "plt.xlabel(\"Epoch\")\n",
        "plt.ylabel(\"Train loss\")\n",
        "plt.show()"
      ]
    },
    {
      "cell_type": "code",
      "execution_count": 14,
      "metadata": {
        "id": "1jgn5y5Cft6s"
      },
      "outputs": [
        {
          "data": {
            "image/png": "[encoded data removed]",
            "text/plain": [
              "<Figure size 640x480 with 1 Axes>"
            ]
          },
          "metadata": {},
          "output_type": "display_data"
        }
      ],
      "source": [
        "plt.plot(accuracies)\n",
        "plt.xlabel(\"Epoch\")\n",
        "plt.ylabel(\"Train accuracy (%)\")\n",
        "plt.show()"
      ]
    },
    {
      "cell_type": "code",
      "execution_count": 15,
      "metadata": {
        "colab": {
          "base_uri": "https://localhost:8080/"
        },
        "id": "anw3R6_xf47d",
        "outputId": "cd00d288-a37a-4558-9fc1-a8438691d83d"
      },
      "outputs": [
        {
          "name": "stdout",
          "output_type": "stream",
          "text": [
            "Evaluation accuracy: 74.72596153846153 % (15543 / 20800)\n"
          ]
        }
      ],
      "source": [
        "with torch.no_grad():\n",
        "    model.eval()\n",
        "    y_test_pred = []\n",
        "    y_test_true = []\n",
        "\n",
        "    for batch_idx, (imgs, labels) in enumerate(emnist_test_loader):\n",
        "        imgs = imgs.to(device)\n",
        "        labels = labels.to(device)\n",
        "\n",
        "        if labels.size() == torch.Size([32]):\n",
        "          predictions = model(imgs)\n",
        "          y_test_pred.extend(predictions.argmax(dim=1).tolist())\n",
        "          y_test_true.extend(labels.detach().tolist())\n",
        "\n",
        "    nb_imgs = len(y_test_pred)\n",
        "    total_correct = 0\n",
        "    for i in range(nb_imgs):\n",
        "        if y_test_pred[i] == y_test_true[i]:\n",
        "            total_correct += 1\n",
        "    accuracy = total_correct * 100 / nb_imgs\n",
        "\n",
        "    print(f\"Evaluation accuracy: {accuracy} % ({total_correct} / {nb_imgs})\")\n"
      ]
    },
    {
      "cell_type": "markdown",
      "metadata": {
        "id": "DQQwOWj1gJiN"
      },
      "source": [
        "Télécharger les données du model"
      ]
    },
    {
      "cell_type": "code",
      "execution_count": 16,
      "metadata": {
        "id": "_zwXAeqogID0"
      },
      "outputs": [],
      "source": [
        "torch.save(model.state_dict(), 'model.pth')"
      ]
    },
    {
      "cell_type": "markdown",
      "metadata": {
        "id": "fklpAq2gh_dF"
      },
      "source": [
        "Récupération des données du model"
      ]
    },
    {
      "cell_type": "code",
      "execution_count": 17,
      "metadata": {
        "colab": {
          "base_uri": "https://localhost:8080/"
        },
        "id": "Sc3KfFGtiKnX",
        "outputId": "d013865e-a52e-4718-fb48-e64012b2604a"
      },
      "outputs": [
        {
          "name": "stdout",
          "output_type": "stream",
          "text": [
            "Dataset EMNIST\n",
            "    Number of datapoints: 124800\n",
            "    Root location: ./data/\n",
            "    Split: Train\n",
            "    StandardTransform\n",
            "Transform: Compose(\n",
            "               ToTensor()\n",
            "               Normalize(mean=(0.5,), std=(0.5,))\n",
            "           )\n"
          ]
        }
      ],
      "source": [
        "checkpoint = torch.load('model.pth', map_location=torch.device('cpu'))\n",
        "model.load_state_dict({k: v for k, v in checkpoint.items() if k in model.state_dict()})\n",
        "\n",
        "model.eval()\n",
        "\n",
        "transform = torchvision.transforms.Compose([\n",
        "    torchvision.transforms.ToTensor(),\n",
        "    torchvision.transforms.Normalize((0.5,), (0.5,))\n",
        "])\n",
        "\n",
        "emnist_dataset = torchvision.datasets.EMNIST('./data/', split='letters', download=True, transform=transform)\n",
        "print(emnist_dataset)\n"
      ]
    }
  ],
  "metadata": {
    "colab": {
      "provenance": []
    },
    "kernelspec": {
      "display_name": "Python 3",
      "name": "python3"
    },
    "language_info": {
      "codemirror_mode": {
        "name": "ipython",
        "version": 3
      },
      "file_extension": ".py",
      "mimetype": "text/x-python",
      "name": "python",
      "nbconvert_exporter": "python",
      "pygments_lexer": "ipython3",
      "version": "3.11.8"
    }
  },
  "nbformat": 4,
  "nbformat_minor": 0
}
